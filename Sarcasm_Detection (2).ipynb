{
 "cells": [
  {
   "cell_type": "code",
   "execution_count": 1,
   "metadata": {
    "colab": {
     "base_uri": "https://localhost:8080/",
     "height": 54
    },
    "colab_type": "code",
    "id": "E-ERFLjFsX8U",
    "outputId": "a603bfde-70f0-4ddf-bbcd-5c31d973b6db"
   },
   "outputs": [
    {
     "name": "stdout",
     "output_type": "stream",
     "text": [
      "Drive already mounted at /content/drive; to attempt to forcibly remount, call drive.mount(\"/content/drive\", force_remount=True).\n"
     ]
    }
   ],
   "source": [
    "from google.colab import drive\n",
    "drive.mount('/content/drive')"
   ]
  },
  {
   "cell_type": "markdown",
   "metadata": {
    "colab_type": "text",
    "id": "pp68FAQf9aMN"
   },
   "source": [
    "# Sarcasm Detection"
   ]
  },
  {
   "cell_type": "markdown",
   "metadata": {
    "colab_type": "text",
    "id": "bEahVPtWX5ve"
   },
   "source": [
    "### Dataset\n",
    "\n",
    "#### Acknowledgement\n",
    "Misra, Rishabh, and Prahal Arora. \"Sarcasm Detection using Hybrid Neural Network.\" arXiv preprint arXiv:1908.07414 (2019).\n"
   ]
  },
  {
   "cell_type": "markdown",
   "metadata": {
    "colab_type": "text",
    "id": "vAk6BRUh8CqL"
   },
   "source": [
    "### Load Data"
   ]
  },
  {
   "cell_type": "code",
   "execution_count": 37,
   "metadata": {
    "colab": {},
    "colab_type": "code",
    "id": "22CvcbJqGb5b"
   },
   "outputs": [],
   "source": [
    "import pandas as pd\n",
    "import numpy as np\n",
    "import matplotlib.pyplot as plt\n",
    "import seaborn as sns\n",
    "from sklearn.model_selection import train_test_split\n",
    "from sklearn.preprocessing import LabelEncoder\n",
    "from keras.models import Model\n",
    "from keras.layers import LSTM, Activation, Dense, Dropout, Input, Embedding, Bidirectional, TimeDistributed, GRU\n",
    "from keras.optimizers import RMSprop\n",
    "from keras.preprocessing.text import Tokenizer\n",
    "from keras.preprocessing import sequence\n",
    "from keras.utils import to_categorical\n",
    "from keras.callbacks import EarlyStopping\n",
    "from sklearn.feature_extraction.text import CountVectorizer\n",
    "from keras.preprocessing.text import Tokenizer\n",
    "from keras.preprocessing.sequence import pad_sequences\n",
    "from keras.models import Sequential\n",
    "from keras.layers import Dense, Embedding, LSTM, SpatialDropout1D\n",
    "from sklearn.model_selection import train_test_split\n",
    "from keras.utils.np_utils import to_categorical\n",
    "%matplotlib inline\n",
    "import json\n",
    "import os\n",
    "import re\n"
   ]
  },
  {
   "cell_type": "code",
   "execution_count": 3,
   "metadata": {
    "colab": {
     "base_uri": "https://localhost:8080/",
     "height": 204
    },
    "colab_type": "code",
    "id": "v8-PQsV0DrAZ",
    "outputId": "37d7d1e5-0262-4064-a724-57af2f4fe317"
   },
   "outputs": [
    {
     "data": {
      "text/html": [
       "<div>\n",
       "<style scoped>\n",
       "    .dataframe tbody tr th:only-of-type {\n",
       "        vertical-align: middle;\n",
       "    }\n",
       "\n",
       "    .dataframe tbody tr th {\n",
       "        vertical-align: top;\n",
       "    }\n",
       "\n",
       "    .dataframe thead th {\n",
       "        text-align: right;\n",
       "    }\n",
       "</style>\n",
       "<table border=\"1\" class=\"dataframe\">\n",
       "  <thead>\n",
       "    <tr style=\"text-align: right;\">\n",
       "      <th></th>\n",
       "      <th>article_link</th>\n",
       "      <th>headline</th>\n",
       "      <th>is_sarcastic</th>\n",
       "    </tr>\n",
       "  </thead>\n",
       "  <tbody>\n",
       "    <tr>\n",
       "      <th>0</th>\n",
       "      <td>https://www.huffingtonpost.com/entry/versace-b...</td>\n",
       "      <td>former versace store clerk sues over secret 'b...</td>\n",
       "      <td>0</td>\n",
       "    </tr>\n",
       "    <tr>\n",
       "      <th>1</th>\n",
       "      <td>https://www.huffingtonpost.com/entry/roseanne-...</td>\n",
       "      <td>the 'roseanne' revival catches up to our thorn...</td>\n",
       "      <td>0</td>\n",
       "    </tr>\n",
       "    <tr>\n",
       "      <th>2</th>\n",
       "      <td>https://local.theonion.com/mom-starting-to-fea...</td>\n",
       "      <td>mom starting to fear son's web series closest ...</td>\n",
       "      <td>1</td>\n",
       "    </tr>\n",
       "    <tr>\n",
       "      <th>3</th>\n",
       "      <td>https://politics.theonion.com/boehner-just-wan...</td>\n",
       "      <td>boehner just wants wife to listen, not come up...</td>\n",
       "      <td>1</td>\n",
       "    </tr>\n",
       "    <tr>\n",
       "      <th>4</th>\n",
       "      <td>https://www.huffingtonpost.com/entry/jk-rowlin...</td>\n",
       "      <td>j.k. rowling wishes snape happy birthday in th...</td>\n",
       "      <td>0</td>\n",
       "    </tr>\n",
       "  </tbody>\n",
       "</table>\n",
       "</div>"
      ],
      "text/plain": [
       "                                        article_link  ... is_sarcastic\n",
       "0  https://www.huffingtonpost.com/entry/versace-b...  ...            0\n",
       "1  https://www.huffingtonpost.com/entry/roseanne-...  ...            0\n",
       "2  https://local.theonion.com/mom-starting-to-fea...  ...            1\n",
       "3  https://politics.theonion.com/boehner-just-wan...  ...            1\n",
       "4  https://www.huffingtonpost.com/entry/jk-rowlin...  ...            0\n",
       "\n",
       "[5 rows x 3 columns]"
      ]
     },
     "execution_count": 3,
     "metadata": {
      "tags": []
     },
     "output_type": "execute_result"
    }
   ],
   "source": [
    "project_path = '/content/drive/My Drive/Colab Notebooks/Deep Learning/Sarcasm Detection'\n",
    "df = pd.read_json('/content/drive/My Drive/Colab Notebooks/Deep Learning/Sarcasm Detection/Sarcasm_Headlines_Dataset.json', lines=True)\n",
    "df.head()"
   ]
  },
  {
   "cell_type": "markdown",
   "metadata": {
    "colab_type": "text",
    "id": "z6pXf7A78E2H"
   },
   "source": [
    "### Drop `article_link` from dataset"
   ]
  },
  {
   "cell_type": "code",
   "execution_count": 4,
   "metadata": {
    "colab": {
     "base_uri": "https://localhost:8080/",
     "height": 204
    },
    "colab_type": "code",
    "id": "-WUNHq5zEV0n",
    "outputId": "f3bec790-cd8b-4c7b-f3ec-59a8dffac545",
    "scrolled": true
   },
   "outputs": [
    {
     "data": {
      "text/html": [
       "<div>\n",
       "<style scoped>\n",
       "    .dataframe tbody tr th:only-of-type {\n",
       "        vertical-align: middle;\n",
       "    }\n",
       "\n",
       "    .dataframe tbody tr th {\n",
       "        vertical-align: top;\n",
       "    }\n",
       "\n",
       "    .dataframe thead th {\n",
       "        text-align: right;\n",
       "    }\n",
       "</style>\n",
       "<table border=\"1\" class=\"dataframe\">\n",
       "  <thead>\n",
       "    <tr style=\"text-align: right;\">\n",
       "      <th></th>\n",
       "      <th>headline</th>\n",
       "      <th>is_sarcastic</th>\n",
       "    </tr>\n",
       "  </thead>\n",
       "  <tbody>\n",
       "    <tr>\n",
       "      <th>0</th>\n",
       "      <td>former versace store clerk sues over secret 'b...</td>\n",
       "      <td>0</td>\n",
       "    </tr>\n",
       "    <tr>\n",
       "      <th>1</th>\n",
       "      <td>the 'roseanne' revival catches up to our thorn...</td>\n",
       "      <td>0</td>\n",
       "    </tr>\n",
       "    <tr>\n",
       "      <th>2</th>\n",
       "      <td>mom starting to fear son's web series closest ...</td>\n",
       "      <td>1</td>\n",
       "    </tr>\n",
       "    <tr>\n",
       "      <th>3</th>\n",
       "      <td>boehner just wants wife to listen, not come up...</td>\n",
       "      <td>1</td>\n",
       "    </tr>\n",
       "    <tr>\n",
       "      <th>4</th>\n",
       "      <td>j.k. rowling wishes snape happy birthday in th...</td>\n",
       "      <td>0</td>\n",
       "    </tr>\n",
       "  </tbody>\n",
       "</table>\n",
       "</div>"
      ],
      "text/plain": [
       "                                            headline  is_sarcastic\n",
       "0  former versace store clerk sues over secret 'b...             0\n",
       "1  the 'roseanne' revival catches up to our thorn...             0\n",
       "2  mom starting to fear son's web series closest ...             1\n",
       "3  boehner just wants wife to listen, not come up...             1\n",
       "4  j.k. rowling wishes snape happy birthday in th...             0"
      ]
     },
     "execution_count": 4,
     "metadata": {
      "tags": []
     },
     "output_type": "execute_result"
    }
   ],
   "source": [
    "#One column dropped\n",
    "df = df[['headline','is_sarcastic']]\n",
    "df.head()"
   ]
  },
  {
   "cell_type": "code",
   "execution_count": 5,
   "metadata": {
    "colab": {
     "base_uri": "https://localhost:8080/",
     "height": 312
    },
    "colab_type": "code",
    "id": "h-0r-VAWLf2Z",
    "outputId": "e7131bbd-8027-4661-9334-dfbb4e205adf"
   },
   "outputs": [
    {
     "data": {
      "text/plain": [
       "Text(0.5, 1.0, 'Sarcasm vs Non-sarcasm')"
      ]
     },
     "execution_count": 5,
     "metadata": {
      "tags": []
     },
     "output_type": "execute_result"
    },
    {
     "data": {
      "image/png": "[encoded data removed]",
      "text/plain": [
       "<Figure size 432x288 with 1 Axes>"
      ]
     },
     "metadata": {
      "needs_background": "light",
      "tags": []
     },
     "output_type": "display_data"
    }
   ],
   "source": [
    "#Checking the distribution between labels\n",
    "sns.countplot(df.is_sarcastic)\n",
    "plt.xlabel('Label')\n",
    "plt.title('Sarcasm vs Non-sarcasm')"
   ]
  },
  {
   "cell_type": "markdown",
   "metadata": {
    "colab_type": "text",
    "id": "D0h6IOxU8OdH"
   },
   "source": [
    "### Get length of each headline and add a column for that"
   ]
  },
  {
   "cell_type": "code",
   "execution_count": 6,
   "metadata": {
    "colab": {
     "base_uri": "https://localhost:8080/",
     "height": 204
    },
    "colab_type": "code",
    "id": "MLpiBRDmEV2l",
    "outputId": "9aa8f709-095e-4f07-e7ee-6700c36afac5"
   },
   "outputs": [
    {
     "data": {
      "text/html": [
       "<div>\n",
       "<style scoped>\n",
       "    .dataframe tbody tr th:only-of-type {\n",
       "        vertical-align: middle;\n",
       "    }\n",
       "\n",
       "    .dataframe tbody tr th {\n",
       "        vertical-align: top;\n",
       "    }\n",
       "\n",
       "    .dataframe thead th {\n",
       "        text-align: right;\n",
       "    }\n",
       "</style>\n",
       "<table border=\"1\" class=\"dataframe\">\n",
       "  <thead>\n",
       "    <tr style=\"text-align: right;\">\n",
       "      <th></th>\n",
       "      <th>headline</th>\n",
       "      <th>is_sarcastic</th>\n",
       "      <th>headline_length</th>\n",
       "    </tr>\n",
       "  </thead>\n",
       "  <tbody>\n",
       "    <tr>\n",
       "      <th>0</th>\n",
       "      <td>former versace store clerk sues over secret 'b...</td>\n",
       "      <td>0</td>\n",
       "      <td>78</td>\n",
       "    </tr>\n",
       "    <tr>\n",
       "      <th>1</th>\n",
       "      <td>the 'roseanne' revival catches up to our thorn...</td>\n",
       "      <td>0</td>\n",
       "      <td>84</td>\n",
       "    </tr>\n",
       "    <tr>\n",
       "      <th>2</th>\n",
       "      <td>mom starting to fear son's web series closest ...</td>\n",
       "      <td>1</td>\n",
       "      <td>79</td>\n",
       "    </tr>\n",
       "    <tr>\n",
       "      <th>3</th>\n",
       "      <td>boehner just wants wife to listen, not come up...</td>\n",
       "      <td>1</td>\n",
       "      <td>84</td>\n",
       "    </tr>\n",
       "    <tr>\n",
       "      <th>4</th>\n",
       "      <td>j.k. rowling wishes snape happy birthday in th...</td>\n",
       "      <td>0</td>\n",
       "      <td>64</td>\n",
       "    </tr>\n",
       "  </tbody>\n",
       "</table>\n",
       "</div>"
      ],
      "text/plain": [
       "                                            headline  ...  headline_length\n",
       "0  former versace store clerk sues over secret 'b...  ...               78\n",
       "1  the 'roseanne' revival catches up to our thorn...  ...               84\n",
       "2  mom starting to fear son's web series closest ...  ...               79\n",
       "3  boehner just wants wife to listen, not come up...  ...               84\n",
       "4  j.k. rowling wishes snape happy birthday in th...  ...               64\n",
       "\n",
       "[5 rows x 3 columns]"
      ]
     },
     "execution_count": 6,
     "metadata": {
      "tags": []
     },
     "output_type": "execute_result"
    }
   ],
   "source": [
    "#Exploring Data\n",
    "#df.info()\n",
    "#df.tail()\n",
    "#df.describe()\n",
    "#df.head()\n",
    "\n",
    "df['headline_length'] = df['headline'].apply(len)\n",
    "df.head()"
   ]
  },
  {
   "cell_type": "markdown",
   "metadata": {
    "colab_type": "text",
    "id": "SMF-wjJ2aMwm"
   },
   "source": [
    "### Initialize parameter values\n",
    "- Set values for max_features, maxlen, & embedding_size\n",
    "- max_features: Number of words to take from tokenizer(most frequent words)\n",
    "- maxlen: Maximum length of each sentence to be limited to 25\n",
    "- embedding_size: size of embedding vector"
   ]
  },
  {
   "cell_type": "code",
   "execution_count": 7,
   "metadata": {
    "colab": {},
    "colab_type": "code",
    "id": "jPw9gAN_EV6m"
   },
   "outputs": [],
   "source": [
    "#Defining Parameters\n",
    "max_features = 10000  \n",
    "maxlen = 25\n",
    "embedding_size = 200"
   ]
  },
  {
   "cell_type": "markdown",
   "metadata": {
    "colab_type": "text",
    "id": "9abSe-bM8fn9"
   },
   "source": [
    "### Appling `tensorflow.keras` Tokenizer and get indices for words\n",
    "- Initialize Tokenizer object with number of words as 10000\n",
    "- Fit the tokenizer object on headline column\n",
    "- Convert the text to sequence\n"
   ]
  },
  {
   "cell_type": "code",
   "execution_count": 8,
   "metadata": {
    "colab": {},
    "colab_type": "code",
    "id": "y8g4l0KfF3eh"
   },
   "outputs": [],
   "source": [
    "# Filtering headlines so that only valid headlines remain\n",
    "df['headline'] = df['headline'].apply(lambda x: x.lower())\n",
    "df['headline'] = df['headline'].apply((lambda x: re.sub('[^a-zA-z0-9\\s]','',x)))\n",
    "\n",
    "\n",
    "for idx,row in df.iterrows():\n",
    "    row[0] = row[0].replace('rt',' ')\n",
    "    \n",
    "tokenizer = Tokenizer(num_words=max_features, split=' ')\n",
    "tokenizer.fit_on_texts(df['headline'].values)\n",
    "X = tokenizer.texts_to_sequences(df['headline'].values)"
   ]
  },
  {
   "cell_type": "markdown",
   "metadata": {
    "colab_type": "text",
    "id": "xeZpwPO4bOkZ"
   },
   "source": [
    "### Padding sequences"
   ]
  },
  {
   "cell_type": "code",
   "execution_count": 9,
   "metadata": {
    "colab": {},
    "colab_type": "code",
    "id": "qV0K70E5c9Xl"
   },
   "outputs": [],
   "source": [
    "X_padded = sequence.pad_sequences(X, maxlen=maxlen)"
   ]
  },
  {
   "cell_type": "code",
   "execution_count": 10,
   "metadata": {
    "colab": {},
    "colab_type": "code",
    "id": "8TUGijPDCkEi"
   },
   "outputs": [],
   "source": [
    "Y = df['is_sarcastic']\n",
    "X_train, X_test, y_train, y_test= train_test_split(X_padded, Y, train_size=0.67)"
   ]
  },
  {
   "cell_type": "code",
   "execution_count": 12,
   "metadata": {
    "colab": {
     "base_uri": "https://localhost:8080/",
     "height": 85
    },
    "colab_type": "code",
    "id": "NbNpPGf-E1fN",
    "outputId": "8d6c7fb8-c5de-46b9-928f-53fb2632feff"
   },
   "outputs": [
    {
     "name": "stdout",
     "output_type": "stream",
     "text": [
      "(17895, 25)\n",
      "(8814, 25)\n",
      "(17895,)\n",
      "(8814,)\n"
     ]
    }
   ],
   "source": [
    "print(X_train.shape)\n",
    "print(X_test.shape)\n",
    "print(y_train.shape)\n",
    "print(y_test.shape)"
   ]
  },
  {
   "cell_type": "markdown",
   "metadata": {
    "colab_type": "text",
    "id": "WJLyKg-98rH_"
   },
   "source": [
    "### Vocab mapping\n",
    "- There is no word for 0th index"
   ]
  },
  {
   "cell_type": "code",
   "execution_count": 13,
   "metadata": {
    "colab": {
     "base_uri": "https://localhost:8080/",
     "height": 1000
    },
    "colab_type": "code",
    "id": "vCNgtnQqdbZn",
    "outputId": "178224fa-30a2-4c89-a850-e6b74138583a"
   },
   "outputs": [
    {
     "data": {
      "text/plain": [
       "{'to': 1,\n",
       " 'of': 2,\n",
       " 'the': 3,\n",
       " 'in': 4,\n",
       " 'for': 5,\n",
       " 'a': 6,\n",
       " 'on': 7,\n",
       " 'and': 8,\n",
       " 'with': 9,\n",
       " 'is': 10,\n",
       " 'new': 11,\n",
       " 'trump': 12,\n",
       " 'man': 13,\n",
       " 'from': 14,\n",
       " 'at': 15,\n",
       " 'about': 16,\n",
       " 'you': 17,\n",
       " 'this': 18,\n",
       " 'by': 19,\n",
       " 'after': 20,\n",
       " 'be': 21,\n",
       " 'how': 22,\n",
       " 'out': 23,\n",
       " 'it': 24,\n",
       " 'that': 25,\n",
       " 'as': 26,\n",
       " 'up': 27,\n",
       " 'not': 28,\n",
       " 'are': 29,\n",
       " 'your': 30,\n",
       " 'what': 31,\n",
       " 'his': 32,\n",
       " 'he': 33,\n",
       " 'just': 34,\n",
       " 'who': 35,\n",
       " 'us': 36,\n",
       " 'has': 37,\n",
       " 'will': 38,\n",
       " 'more': 39,\n",
       " 'all': 40,\n",
       " 'report': 41,\n",
       " 'into': 42,\n",
       " 'one': 43,\n",
       " 'why': 44,\n",
       " 'have': 45,\n",
       " 'area': 46,\n",
       " 'over': 47,\n",
       " 'donald': 48,\n",
       " 'says': 49,\n",
       " 'woman': 50,\n",
       " 'can': 51,\n",
       " 'day': 52,\n",
       " 'its': 53,\n",
       " 'time': 54,\n",
       " 'no': 55,\n",
       " 'first': 56,\n",
       " 'like': 57,\n",
       " 'get': 58,\n",
       " 'her': 59,\n",
       " 'trumps': 60,\n",
       " 'people': 61,\n",
       " 'an': 62,\n",
       " 'i': 63,\n",
       " 'now': 64,\n",
       " 'obama': 65,\n",
       " 'house': 66,\n",
       " 'off': 67,\n",
       " 'life': 68,\n",
       " 'make': 69,\n",
       " 'still': 70,\n",
       " 'women': 71,\n",
       " 'was': 72,\n",
       " 'than': 73,\n",
       " 'my': 74,\n",
       " 'white': 75,\n",
       " 'we': 76,\n",
       " 'back': 77,\n",
       " 'clinton': 78,\n",
       " 'down': 79,\n",
       " 'if': 80,\n",
       " 'when': 81,\n",
       " 'world': 82,\n",
       " 'years': 83,\n",
       " 'could': 84,\n",
       " 'family': 85,\n",
       " 'their': 86,\n",
       " 'do': 87,\n",
       " 'before': 88,\n",
       " 'americans': 89,\n",
       " 'most': 90,\n",
       " 'way': 91,\n",
       " 'black': 92,\n",
       " 'they': 93,\n",
       " 'gop': 94,\n",
       " 'study': 95,\n",
       " '5': 96,\n",
       " 'bill': 97,\n",
       " 'should': 98,\n",
       " 'so': 99,\n",
       " 'would': 100,\n",
       " 'him': 101,\n",
       " 'best': 102,\n",
       " 'police': 103,\n",
       " 'only': 104,\n",
       " 'watch': 105,\n",
       " 'really': 106,\n",
       " 'but': 107,\n",
       " 'american': 108,\n",
       " 'being': 109,\n",
       " 'show': 110,\n",
       " 'school': 111,\n",
       " 'cant': 112,\n",
       " 'know': 113,\n",
       " 'things': 114,\n",
       " 'good': 115,\n",
       " 'home': 116,\n",
       " 'during': 117,\n",
       " 'death': 118,\n",
       " 'president': 119,\n",
       " 'finds': 120,\n",
       " 'year': 121,\n",
       " 'say': 122,\n",
       " 'video': 123,\n",
       " 'nation': 124,\n",
       " 'going': 125,\n",
       " 'love': 126,\n",
       " 'health': 127,\n",
       " 'or': 128,\n",
       " 'last': 129,\n",
       " 'state': 130,\n",
       " 'hillary': 131,\n",
       " 'big': 132,\n",
       " 'parents': 133,\n",
       " 'may': 134,\n",
       " 'too': 135,\n",
       " 'against': 136,\n",
       " 'every': 137,\n",
       " 'she': 138,\n",
       " 'mom': 139,\n",
       " 'kids': 140,\n",
       " 'campaign': 141,\n",
       " 'need': 142,\n",
       " 'gets': 143,\n",
       " 'these': 144,\n",
       " 'getting': 145,\n",
       " 'party': 146,\n",
       " '10': 147,\n",
       " 'little': 148,\n",
       " 'some': 149,\n",
       " '3': 150,\n",
       " 'work': 151,\n",
       " 'right': 152,\n",
       " 'change': 153,\n",
       " 'take': 154,\n",
       " 'our': 155,\n",
       " 'dead': 156,\n",
       " 'dont': 157,\n",
       " 'makes': 158,\n",
       " 'america': 159,\n",
       " 'calls': 160,\n",
       " 'news': 161,\n",
       " 'court': 162,\n",
       " 'doesnt': 163,\n",
       " 'other': 164,\n",
       " 'john': 165,\n",
       " 'through': 166,\n",
       " 'while': 167,\n",
       " 'heres': 168,\n",
       " 'own': 169,\n",
       " 'want': 170,\n",
       " 'never': 171,\n",
       " 'look': 172,\n",
       " 'child': 173,\n",
       " 'takes': 174,\n",
       " 'war': 175,\n",
       " 'nations': 176,\n",
       " 'see': 177,\n",
       " 'gay': 178,\n",
       " 'next': 179,\n",
       " 'where': 180,\n",
       " 'local': 181,\n",
       " 'stop': 182,\n",
       " 'hes': 183,\n",
       " 'go': 184,\n",
       " 'star': 185,\n",
       " 'even': 186,\n",
       " 'real': 187,\n",
       " 'guy': 188,\n",
       " 'election': 189,\n",
       " 'again': 190,\n",
       " 'college': 191,\n",
       " 'bush': 192,\n",
       " 'office': 193,\n",
       " '2': 194,\n",
       " 'plan': 195,\n",
       " 'another': 196,\n",
       " 'got': 197,\n",
       " 'thing': 198,\n",
       " 'dad': 199,\n",
       " 'around': 200,\n",
       " 'game': 201,\n",
       " 'made': 202,\n",
       " 'them': 203,\n",
       " 'help': 204,\n",
       " 'dog': 205,\n",
       " 'baby': 206,\n",
       " 'week': 207,\n",
       " 'wants': 208,\n",
       " 'gun': 209,\n",
       " 'job': 210,\n",
       " 'debate': 211,\n",
       " 'million': 212,\n",
       " 'live': 213,\n",
       " 'actually': 214,\n",
       " 'care': 215,\n",
       " 'congress': 216,\n",
       " 'friends': 217,\n",
       " 'high': 218,\n",
       " 'finally': 219,\n",
       " 'much': 220,\n",
       " 'north': 221,\n",
       " 'been': 222,\n",
       " 'me': 223,\n",
       " 'ever': 224,\n",
       " 'sex': 225,\n",
       " 'under': 226,\n",
       " 'national': 227,\n",
       " 'students': 228,\n",
       " 'mans': 229,\n",
       " 'couple': 230,\n",
       " 'ways': 231,\n",
       " 'climate': 232,\n",
       " '7': 233,\n",
       " 'bad': 234,\n",
       " 'money': 235,\n",
       " 'wont': 236,\n",
       " 'god': 237,\n",
       " 'two': 238,\n",
       " 'shows': 239,\n",
       " 'better': 240,\n",
       " 'top': 241,\n",
       " 'give': 242,\n",
       " 'season': 243,\n",
       " '6': 244,\n",
       " 'there': 245,\n",
       " 'night': 246,\n",
       " 'media': 247,\n",
       " 'teen': 248,\n",
       " 'shooting': 249,\n",
       " 'had': 250,\n",
       " 'men': 251,\n",
       " '4': 252,\n",
       " 'were': 253,\n",
       " 'story': 254,\n",
       " 'trying': 255,\n",
       " 'sexual': 256,\n",
       " 'reveals': 257,\n",
       " 'paul': 258,\n",
       " 'senate': 259,\n",
       " 'without': 260,\n",
       " 'away': 261,\n",
       " 'city': 262,\n",
       " 'supreme': 263,\n",
       " 'history': 264,\n",
       " 'old': 265,\n",
       " 'food': 266,\n",
       " 'announces': 267,\n",
       " 'making': 268,\n",
       " 'everyone': 269,\n",
       " 'children': 270,\n",
       " 'attack': 271,\n",
       " 'fight': 272,\n",
       " 'business': 273,\n",
       " 'any': 274,\n",
       " 'deal': 275,\n",
       " 'enough': 276,\n",
       " 'facebook': 277,\n",
       " 'york': 278,\n",
       " 'face': 279,\n",
       " 'movie': 280,\n",
       " 'end': 281,\n",
       " 'introduces': 282,\n",
       " 'great': 283,\n",
       " 'pope': 284,\n",
       " 'sanders': 285,\n",
       " 'law': 286,\n",
       " 'does': 287,\n",
       " 'friend': 288,\n",
       " 'part': 289,\n",
       " 'tell': 290,\n",
       " 'call': 291,\n",
       " 'tv': 292,\n",
       " 'former': 293,\n",
       " 'entire': 294,\n",
       " 'son': 295,\n",
       " 'fire': 296,\n",
       " 'wedding': 297,\n",
       " 'film': 298,\n",
       " 'found': 299,\n",
       " 'find': 300,\n",
       " 'book': 301,\n",
       " 'body': 302,\n",
       " 'government': 303,\n",
       " 'think': 304,\n",
       " 'come': 305,\n",
       " 'email': 306,\n",
       " 'girl': 307,\n",
       " 'pretty': 308,\n",
       " 'republican': 309,\n",
       " 'support': 310,\n",
       " 'speech': 311,\n",
       " 'single': 312,\n",
       " 'coming': 313,\n",
       " 'morning': 314,\n",
       " 'self': 315,\n",
       " 'photos': 316,\n",
       " 'presidential': 317,\n",
       " 'james': 318,\n",
       " 'car': 319,\n",
       " 'future': 320,\n",
       " 'republicans': 321,\n",
       " 'use': 322,\n",
       " 'keep': 323,\n",
       " 'power': 324,\n",
       " 'thinks': 325,\n",
       " 'public': 326,\n",
       " 'run': 327,\n",
       " 'very': 328,\n",
       " 'didnt': 329,\n",
       " 'rights': 330,\n",
       " 'christmas': 331,\n",
       " 'name': 332,\n",
       " 'already': 333,\n",
       " '8': 334,\n",
       " 'democrats': 335,\n",
       " 'talk': 336,\n",
       " 'case': 337,\n",
       " 'company': 338,\n",
       " 'fans': 339,\n",
       " 'marriage': 340,\n",
       " 'violence': 341,\n",
       " 'girls': 342,\n",
       " 'voters': 343,\n",
       " 'behind': 344,\n",
       " 'line': 345,\n",
       " 'im': 346,\n",
       " 'between': 347,\n",
       " '2016': 348,\n",
       " 'releases': 349,\n",
       " 'worlds': 350,\n",
       " 'tax': 351,\n",
       " 'race': 352,\n",
       " 'killed': 353,\n",
       " 'security': 354,\n",
       " 'vote': 355,\n",
       " 'human': 356,\n",
       " 'states': 357,\n",
       " 'doing': 358,\n",
       " 'secret': 359,\n",
       " 'used': 360,\n",
       " 'goes': 361,\n",
       " 'having': 362,\n",
       " 'long': 363,\n",
       " 'might': 364,\n",
       " 'something': 365,\n",
       " 'must': 366,\n",
       " 'group': 367,\n",
       " '20': 368,\n",
       " 'days': 369,\n",
       " 'asks': 370,\n",
       " 'free': 371,\n",
       " 'ban': 372,\n",
       " 'win': 373,\n",
       " 'bernie': 374,\n",
       " 'twitter': 375,\n",
       " 'student': 376,\n",
       " 'team': 377,\n",
       " 'times': 378,\n",
       " 'boy': 379,\n",
       " 'open': 380,\n",
       " 'looking': 381,\n",
       " 'poll': 382,\n",
       " 'room': 383,\n",
       " 'department': 384,\n",
       " 'because': 385,\n",
       " 'ad': 386,\n",
       " 'once': 387,\n",
       " 'ryan': 388,\n",
       " 'sure': 389,\n",
       " 'middle': 390,\n",
       " 'each': 391,\n",
       " 'political': 392,\n",
       " 'inside': 393,\n",
       " 'teacher': 394,\n",
       " 'minutes': 395,\n",
       " 'claims': 396,\n",
       " '1': 397,\n",
       " 'control': 398,\n",
       " 'super': 399,\n",
       " 'judge': 400,\n",
       " 'art': 401,\n",
       " 'many': 402,\n",
       " 'country': 403,\n",
       " 'forced': 404,\n",
       " 'lets': 405,\n",
       " 'music': 406,\n",
       " 'perfect': 407,\n",
       " 'save': 408,\n",
       " 'meet': 409,\n",
       " 'plans': 410,\n",
       " 'missing': 411,\n",
       " 'running': 412,\n",
       " 'here': 413,\n",
       " 'unveils': 414,\n",
       " 'obamacare': 415,\n",
       " 'second': 416,\n",
       " 'reports': 417,\n",
       " 'living': 418,\n",
       " '12': 419,\n",
       " 'everything': 420,\n",
       " 'same': 421,\n",
       " 'scientists': 422,\n",
       " 'social': 423,\n",
       " 'put': 424,\n",
       " 'wife': 425,\n",
       " 'youre': 426,\n",
       " 'tells': 427,\n",
       " 'california': 428,\n",
       " 'always': 429,\n",
       " 'justice': 430,\n",
       " 'photo': 431,\n",
       " 'person': 432,\n",
       " 'summer': 433,\n",
       " 'red': 434,\n",
       " 'dies': 435,\n",
       " 'until': 436,\n",
       " 'let': 437,\n",
       " 'texas': 438,\n",
       " 'female': 439,\n",
       " 'full': 440,\n",
       " 'looks': 441,\n",
       " 'talks': 442,\n",
       " 'candidate': 443,\n",
       " 'did': 444,\n",
       " 'pay': 445,\n",
       " 'ready': 446,\n",
       " 'comes': 447,\n",
       " 'head': 448,\n",
       " 'michael': 449,\n",
       " 'secretary': 450,\n",
       " 'employee': 451,\n",
       " 'mother': 452,\n",
       " 'needs': 453,\n",
       " 'warns': 454,\n",
       " 'water': 455,\n",
       " 'list': 456,\n",
       " 'father': 457,\n",
       " 'lives': 458,\n",
       " 'past': 459,\n",
       " 'admits': 460,\n",
       " 'mike': 461,\n",
       " 'taking': 462,\n",
       " 'wall': 463,\n",
       " 'ceo': 464,\n",
       " 'working': 465,\n",
       " 'womens': 466,\n",
       " 'cancer': 467,\n",
       " 'set': 468,\n",
       " 'wrong': 469,\n",
       " 'crisis': 470,\n",
       " 'record': 471,\n",
       " 'gives': 472,\n",
       " 'today': 473,\n",
       " 'biden': 474,\n",
       " 'idea': 475,\n",
       " 'thought': 476,\n",
       " 'kim': 477,\n",
       " 'letter': 478,\n",
       " 'george': 479,\n",
       " 'shot': 480,\n",
       " 'hot': 481,\n",
       " 'cruz': 482,\n",
       " 'wins': 483,\n",
       " 'stars': 484,\n",
       " 'left': 485,\n",
       " 'town': 486,\n",
       " 'heart': 487,\n",
       " 'hours': 488,\n",
       " 'dream': 489,\n",
       " 'probably': 490,\n",
       " 'start': 491,\n",
       " 'romney': 492,\n",
       " 'young': 493,\n",
       " 'meeting': 494,\n",
       " 'south': 495,\n",
       " 'korea': 496,\n",
       " 'lost': 497,\n",
       " 'daughter': 498,\n",
       " 'percent': 499,\n",
       " 'education': 500,\n",
       " 'tips': 501,\n",
       " 'service': 502,\n",
       " 'nothing': 503,\n",
       " 'moms': 504,\n",
       " 'fbi': 505,\n",
       " 'street': 506,\n",
       " 'obamas': 507,\n",
       " 'place': 508,\n",
       " 'kill': 509,\n",
       " 'age': 510,\n",
       " 'three': 511,\n",
       " 'isis': 512,\n",
       " 'shes': 513,\n",
       " 'russia': 514,\n",
       " 'thousands': 515,\n",
       " 'breaking': 516,\n",
       " 'phone': 517,\n",
       " 'fucking': 518,\n",
       " 'few': 519,\n",
       " 'believe': 520,\n",
       " 'tweets': 521,\n",
       " 'together': 522,\n",
       " 'someone': 523,\n",
       " 'rock': 524,\n",
       " 'eating': 525,\n",
       " 'chief': 526,\n",
       " 'march': 527,\n",
       " 'yet': 528,\n",
       " 'washington': 529,\n",
       " 'officials': 530,\n",
       " 'restaurant': 531,\n",
       " 'administration': 532,\n",
       " 'talking': 533,\n",
       " 'online': 534,\n",
       " 'feel': 535,\n",
       " 'cat': 536,\n",
       " 'leaves': 537,\n",
       " 'ted': 538,\n",
       " 'francis': 539,\n",
       " 'questions': 540,\n",
       " 'military': 541,\n",
       " 'fan': 542,\n",
       " 'class': 543,\n",
       " 'guide': 544,\n",
       " 'order': 545,\n",
       " 'owner': 546,\n",
       " 'director': 547,\n",
       " 'months': 548,\n",
       " 'federal': 549,\n",
       " 'chris': 550,\n",
       " 'attacks': 551,\n",
       " 'birthday': 552,\n",
       " 'earth': 553,\n",
       " 'move': 554,\n",
       " 'whats': 555,\n",
       " 'internet': 556,\n",
       " 'giving': 557,\n",
       " 'air': 558,\n",
       " 'problem': 559,\n",
       " 'hollywood': 560,\n",
       " 'florida': 561,\n",
       " 'ask': 562,\n",
       " 'beautiful': 563,\n",
       " 'small': 564,\n",
       " 'king': 565,\n",
       " 'reason': 566,\n",
       " 'sleep': 567,\n",
       " 'latest': 568,\n",
       " 'series': 569,\n",
       " 'happy': 570,\n",
       " 'nuclear': 571,\n",
       " 'americas': 572,\n",
       " 'congressman': 573,\n",
       " 'drug': 574,\n",
       " 'different': 575,\n",
       " 'assault': 576,\n",
       " '15': 577,\n",
       " 'word': 578,\n",
       " 'buy': 579,\n",
       " 'personal': 580,\n",
       " 'rules': 581,\n",
       " 'less': 582,\n",
       " 'majority': 583,\n",
       " 'prison': 584,\n",
       " 'told': 585,\n",
       " 'democratic': 586,\n",
       " 'outside': 587,\n",
       " 'lot': 588,\n",
       " 'those': 589,\n",
       " 'shit': 590,\n",
       " 'moment': 591,\n",
       " 'isnt': 592,\n",
       " 'iran': 593,\n",
       " 'reasons': 594,\n",
       " 'leaders': 595,\n",
       " 'holiday': 596,\n",
       " '2015': 597,\n",
       " 'fox': 598,\n",
       " 'community': 599,\n",
       " 'leave': 600,\n",
       " 'travel': 601,\n",
       " 'kind': 602,\n",
       " 'system': 603,\n",
       " '9': 604,\n",
       " 'rise': 605,\n",
       " 'hard': 606,\n",
       " 'play': 607,\n",
       " 'victims': 608,\n",
       " 'fun': 609,\n",
       " 'favorite': 610,\n",
       " 'mark': 611,\n",
       " 'issues': 612,\n",
       " 'interview': 613,\n",
       " 'relationship': 614,\n",
       " 'hell': 615,\n",
       " 'response': 616,\n",
       " 'jimmy': 617,\n",
       " 'month': 618,\n",
       " 'huge': 619,\n",
       " 'box': 620,\n",
       " 'celebrates': 621,\n",
       " 'special': 622,\n",
       " 'mothers': 623,\n",
       " 'excited': 624,\n",
       " 'kid': 625,\n",
       " 'huffpost': 626,\n",
       " 'read': 627,\n",
       " 'immigration': 628,\n",
       " 'protest': 629,\n",
       " 'bar': 630,\n",
       " 'scott': 631,\n",
       " 'gift': 632,\n",
       " 'following': 633,\n",
       " 'hope': 634,\n",
       " 'cops': 635,\n",
       " 'using': 636,\n",
       " 'offers': 637,\n",
       " 'thinking': 638,\n",
       " 'message': 639,\n",
       " 'trailer': 640,\n",
       " 'well': 641,\n",
       " 'trip': 642,\n",
       " 'knows': 643,\n",
       " 'politics': 644,\n",
       " 'weekend': 645,\n",
       " 'ice': 646,\n",
       " 'watching': 647,\n",
       " 'candidates': 648,\n",
       " 'visit': 649,\n",
       " 'stephen': 650,\n",
       " 'muslim': 651,\n",
       " 'straight': 652,\n",
       " 'lessons': 653,\n",
       " 'david': 654,\n",
       " 'union': 655,\n",
       " 'hate': 656,\n",
       " 'tom': 657,\n",
       " 'since': 658,\n",
       " 'china': 659,\n",
       " '911': 660,\n",
       " 'hit': 661,\n",
       " 'russian': 662,\n",
       " 'cover': 663,\n",
       " 'accused': 664,\n",
       " 'taylor': 665,\n",
       " 'front': 666,\n",
       " 'bring': 667,\n",
       " '11': 668,\n",
       " 'anything': 669,\n",
       " 'senator': 670,\n",
       " 'schools': 671,\n",
       " 'himself': 672,\n",
       " 'conversation': 673,\n",
       " 'hair': 674,\n",
       " 'millions': 675,\n",
       " 'un': 676,\n",
       " 'queer': 677,\n",
       " 'drunk': 678,\n",
       " 'least': 679,\n",
       " '50': 680,\n",
       " 'date': 681,\n",
       " 'employees': 682,\n",
       " 'chinese': 683,\n",
       " 'adorable': 684,\n",
       " '30': 685,\n",
       " 'birth': 686,\n",
       " 'cop': 687,\n",
       " 'words': 688,\n",
       " 'joe': 689,\n",
       " 'syria': 690,\n",
       " 'powerful': 691,\n",
       " 'theyre': 692,\n",
       " 'united': 693,\n",
       " 'reality': 694,\n",
       " 'leader': 695,\n",
       " 'mass': 696,\n",
       " 'billion': 697,\n",
       " 'become': 698,\n",
       " 'investigation': 699,\n",
       " 'opens': 700,\n",
       " 'whole': 701,\n",
       " 'third': 702,\n",
       " 'am': 703,\n",
       " 'theres': 704,\n",
       " 'learned': 705,\n",
       " 'break': 706,\n",
       " 'totally': 707,\n",
       " 'career': 708,\n",
       " 'true': 709,\n",
       " 'waiting': 710,\n",
       " 'returns': 711,\n",
       " 'early': 712,\n",
       " 'syrian': 713,\n",
       " 'massive': 714,\n",
       " 'almost': 715,\n",
       " 'wars': 716,\n",
       " 'fashion': 717,\n",
       " 'turn': 718,\n",
       " 'workers': 719,\n",
       " 'breaks': 720,\n",
       " 'point': 721,\n",
       " 'fall': 722,\n",
       " 'feels': 723,\n",
       " 'girlfriend': 724,\n",
       " 'policy': 725,\n",
       " 'stage': 726,\n",
       " 'die': 727,\n",
       " 'hits': 728,\n",
       " 'killing': 729,\n",
       " 'apple': 730,\n",
       " 'sports': 731,\n",
       " 'awards': 732,\n",
       " 'worried': 733,\n",
       " 'kills': 734,\n",
       " 'abortion': 735,\n",
       " 'iraq': 736,\n",
       " 'song': 737,\n",
       " 'wearing': 738,\n",
       " 'dance': 739,\n",
       " 'dating': 740,\n",
       " 'turns': 741,\n",
       " 'teens': 742,\n",
       " 'completely': 743,\n",
       " 'puts': 744,\n",
       " 'spends': 745,\n",
       " 'dinner': 746,\n",
       " 'vows': 747,\n",
       " 'sick': 748,\n",
       " 'late': 749,\n",
       " 'crash': 750,\n",
       " 'worst': 751,\n",
       " 'names': 752,\n",
       " 'final': 753,\n",
       " 'global': 754,\n",
       " 'weird': 755,\n",
       " 'signs': 756,\n",
       " 'sign': 757,\n",
       " 'murder': 758,\n",
       " 'host': 759,\n",
       " 'pence': 760,\n",
       " 'prince': 761,\n",
       " 'trans': 762,\n",
       " 'experience': 763,\n",
       " 'reportedly': 764,\n",
       " 'decision': 765,\n",
       " 'adds': 766,\n",
       " 'fighting': 767,\n",
       " 'surprise': 768,\n",
       " 'hands': 769,\n",
       " 'transgender': 770,\n",
       " 'key': 771,\n",
       " 'anniversary': 772,\n",
       " 'moving': 773,\n",
       " 'seen': 774,\n",
       " 'called': 775,\n",
       " 'center': 776,\n",
       " 'force': 777,\n",
       " 'paris': 778,\n",
       " 'members': 779,\n",
       " 'advice': 780,\n",
       " 'bus': 781,\n",
       " 'road': 782,\n",
       " 'post': 783,\n",
       " 'struggling': 784,\n",
       " 'discover': 785,\n",
       " 'nfl': 786,\n",
       " 'act': 787,\n",
       " 'across': 788,\n",
       " 'kardashian': 789,\n",
       " 'return': 790,\n",
       " 'keeps': 791,\n",
       " 'users': 792,\n",
       " '2017': 793,\n",
       " 'official': 794,\n",
       " 'store': 795,\n",
       " 'fear': 796,\n",
       " 'lose': 797,\n",
       " '100': 798,\n",
       " 'longer': 799,\n",
       " 'voice': 800,\n",
       " 'rubio': 801,\n",
       " 'peace': 802,\n",
       " 'brings': 803,\n",
       " 'boys': 804,\n",
       " 'planned': 805,\n",
       " 'lead': 806,\n",
       " 'weeks': 807,\n",
       " 'walking': 808,\n",
       " 'important': 809,\n",
       " 'university': 810,\n",
       " 'reform': 811,\n",
       " 'coworker': 812,\n",
       " 'light': 813,\n",
       " 'ferguson': 814,\n",
       " 'industry': 815,\n",
       " 'suicide': 816,\n",
       " 'starting': 817,\n",
       " 'program': 818,\n",
       " 'artist': 819,\n",
       " 'oil': 820,\n",
       " 'coffee': 821,\n",
       " '2014': 822,\n",
       " 'whether': 823,\n",
       " 'weight': 824,\n",
       " 'worth': 825,\n",
       " 'eat': 826,\n",
       " 'west': 827,\n",
       " 'oscars': 828,\n",
       " 'audience': 829,\n",
       " 'hoping': 830,\n",
       " 'steve': 831,\n",
       " 'jobs': 832,\n",
       " 'wait': 833,\n",
       " 'suspect': 834,\n",
       " 'harry': 835,\n",
       " 'given': 836,\n",
       " 'stand': 837,\n",
       " 'magazine': 838,\n",
       " 'question': 839,\n",
       " 'band': 840,\n",
       " 'biggest': 841,\n",
       " 'hall': 842,\n",
       " 'nyc': 843,\n",
       " 'which': 844,\n",
       " 'major': 845,\n",
       " 'michelle': 846,\n",
       " 'beauty': 847,\n",
       " 'risk': 848,\n",
       " 'remember': 849,\n",
       " 'chicago': 850,\n",
       " 'possible': 851,\n",
       " 'test': 852,\n",
       " 'apartment': 853,\n",
       " 'governor': 854,\n",
       " 'iowa': 855,\n",
       " 'executive': 856,\n",
       " 'success': 857,\n",
       " 'mind': 858,\n",
       " 'chance': 859,\n",
       " 'amazon': 860,\n",
       " 'protesters': 861,\n",
       " 'ideas': 862,\n",
       " 'refugees': 863,\n",
       " 'williams': 864,\n",
       " 'abuse': 865,\n",
       " 'clearly': 866,\n",
       " 'role': 867,\n",
       " 'supporters': 868,\n",
       " 'google': 869,\n",
       " 'hurricane': 870,\n",
       " 'space': 871,\n",
       " 'moore': 872,\n",
       " 'carolina': 873,\n",
       " 'allegations': 874,\n",
       " 'halloween': 875,\n",
       " 'poor': 876,\n",
       " 'five': 877,\n",
       " 'planet': 878,\n",
       " '13': 879,\n",
       " 'hand': 880,\n",
       " 'playing': 881,\n",
       " 'cool': 882,\n",
       " 'mental': 883,\n",
       " 'try': 884,\n",
       " 'cut': 885,\n",
       " 'tour': 886,\n",
       " 'hear': 887,\n",
       " 'demands': 888,\n",
       " 'press': 889,\n",
       " 'wishes': 890,\n",
       " 'green': 891,\n",
       " 'problems': 892,\n",
       " 'asking': 893,\n",
       " 'celebrate': 894,\n",
       " 'push': 895,\n",
       " 'fuck': 896,\n",
       " 'oscar': 897,\n",
       " 'park': 898,\n",
       " 'far': 899,\n",
       " 'homeless': 900,\n",
       " 'plane': 901,\n",
       " 'football': 902,\n",
       " 'eyes': 903,\n",
       " 'general': 904,\n",
       " 'jr': 905,\n",
       " 'doctor': 906,\n",
       " 'vacation': 907,\n",
       " 'throws': 908,\n",
       " 'ben': 909,\n",
       " 'table': 910,\n",
       " 'hilarious': 911,\n",
       " 'pregnant': 912,\n",
       " 'dying': 913,\n",
       " 'colbert': 914,\n",
       " 'side': 915,\n",
       " 'urges': 916,\n",
       " 'reveal': 917,\n",
       " 'simple': 918,\n",
       " 'economy': 919,\n",
       " 'emotional': 920,\n",
       " 'robert': 921,\n",
       " 'building': 922,\n",
       " 'learn': 923,\n",
       " 'number': 924,\n",
       " 'rest': 925,\n",
       " 'album': 926,\n",
       " 'church': 927,\n",
       " 'begins': 928,\n",
       " 'deadly': 929,\n",
       " 'happened': 930,\n",
       " 'uses': 931,\n",
       " 'families': 932,\n",
       " 'card': 933,\n",
       " 'kerry': 934,\n",
       " 'picture': 935,\n",
       " 'marijuana': 936,\n",
       " 'fails': 937,\n",
       " 'sean': 938,\n",
       " 'voter': 939,\n",
       " 'proud': 940,\n",
       " 'humans': 941,\n",
       " 'board': 942,\n",
       " 'shares': 943,\n",
       " 'leads': 944,\n",
       " 'feeling': 945,\n",
       " 'suggests': 946,\n",
       " 'amazing': 947,\n",
       " 'results': 948,\n",
       " 'guys': 949,\n",
       " 'worse': 950,\n",
       " 'hour': 951,\n",
       " 'check': 952,\n",
       " 'queen': 953,\n",
       " 'jenner': 954,\n",
       " 'racist': 955,\n",
       " 'arrested': 956,\n",
       " 'driving': 957,\n",
       " 'male': 958,\n",
       " 'leaving': 959,\n",
       " 'address': 960,\n",
       " 'performance': 961,\n",
       " 'receives': 962,\n",
       " 'amid': 963,\n",
       " 'epa': 964,\n",
       " 'finding': 965,\n",
       " 'door': 966,\n",
       " 'movies': 967,\n",
       " 'officer': 968,\n",
       " 'netflix': 969,\n",
       " 'easy': 970,\n",
       " 'desperate': 971,\n",
       " 'hero': 972,\n",
       " 'quietly': 973,\n",
       " 'data': 974,\n",
       " 'cnn': 975,\n",
       " 'demand': 976,\n",
       " 'website': 977,\n",
       " 'explains': 978,\n",
       " 'older': 979,\n",
       " 'lgbt': 980,\n",
       " 'st': 981,\n",
       " 'pizza': 982,\n",
       " 'close': 983,\n",
       " 'rally': 984,\n",
       " 'sales': 985,\n",
       " 'apparently': 986,\n",
       " 'dads': 987,\n",
       " 'went': 988,\n",
       " 'chicken': 989,\n",
       " 'dogs': 990,\n",
       " 'opening': 991,\n",
       " 'mean': 992,\n",
       " 'said': 993,\n",
       " 'apologizes': 994,\n",
       " 'teachers': 995,\n",
       " 'culture': 996,\n",
       " 'elizabeth': 997,\n",
       " 'ebola': 998,\n",
       " 'responds': 999,\n",
       " 'done': 1000,\n",
       " ...}"
      ]
     },
     "execution_count": 13,
     "metadata": {
      "tags": []
     },
     "output_type": "execute_result"
    }
   ],
   "source": [
    "#Getting word index\n",
    "tokenizer.word_index"
   ]
  },
  {
   "cell_type": "markdown",
   "metadata": {
    "colab_type": "text",
    "id": "VRiNX58Rb3oJ"
   },
   "source": [
    "### Set number of words\n",
    "- Since the above 0th index doesn't have a word, add 1 to the length of the vocabulary"
   ]
  },
  {
   "cell_type": "code",
   "execution_count": 14,
   "metadata": {
    "colab": {
     "base_uri": "https://localhost:8080/",
     "height": 34
    },
    "colab_type": "code",
    "id": "Dfwq6ou8ck2f",
    "outputId": "abbccf0a-6c3a-4863-ee35-0dac5ec82b05"
   },
   "outputs": [
    {
     "name": "stdout",
     "output_type": "stream",
     "text": [
      "28399\n"
     ]
    }
   ],
   "source": [
    "# Setting Vocabulary size\n",
    "num_words = len(tokenizer.word_index) + 1\n",
    "print(num_words)"
   ]
  },
  {
   "cell_type": "markdown",
   "metadata": {
    "colab_type": "text",
    "id": "bUF1TuQa8ux0"
   },
   "source": [
    "### Load Glove Word Embeddings"
   ]
  },
  {
   "cell_type": "code",
   "execution_count": 15,
   "metadata": {
    "colab": {
     "base_uri": "https://localhost:8080/",
     "height": 34
    },
    "colab_type": "code",
    "id": "vq5AIfRtMeZh",
    "outputId": "0ca2394f-8c01-4958-ddf8-a9286f110c88"
   },
   "outputs": [
    {
     "name": "stdout",
     "output_type": "stream",
     "text": [
      "Found 400000 word vectors.\n"
     ]
    }
   ],
   "source": [
    "#!wget http://nlp.stanford.edu/data/glove.6B.zip\n",
    "#!unzip -q glove.6B.zip\n",
    "\n",
    "path_to_glove_file = '/content/glove.6B.200d.txt'\n",
    "\n",
    "embeddings_index = {}\n",
    "with open(path_to_glove_file) as f:\n",
    "    for line in f:\n",
    "        word, coefs = line.split(maxsplit=1)\n",
    "        coefs = np.fromstring(coefs, \"f\", sep=\" \")\n",
    "        embeddings_index[word] = coefs\n",
    "\n",
    "print(\"Found %s word vectors.\" % len(embeddings_index))"
   ]
  },
  {
   "cell_type": "markdown",
   "metadata": {
    "colab_type": "text",
    "id": "prHSzdQUcZhm"
   },
   "source": [
    "### Create embedding matrix"
   ]
  },
  {
   "cell_type": "code",
   "execution_count": 16,
   "metadata": {
    "colab": {},
    "colab_type": "code",
    "id": "elZ-T5aFGZmZ"
   },
   "outputs": [],
   "source": [
    "EMBEDDING_FILE = './glove.6B.200d.txt'\n",
    "\n",
    "embeddings = {}\n",
    "for o in open(EMBEDDING_FILE):\n",
    "    word = o.split(\" \")[0]\n",
    "    # print(word)\n",
    "    embd = o.split(\" \")[1:]\n",
    "    embd = np.asarray(embd, dtype='float32')\n",
    "    # print(embd)\n",
    "    embeddings[word] = embd\n",
    "\n",
    "# create a weight matrix for words in training docs\n",
    "embedding_matrix = np.zeros((num_words, 200))\n",
    "\n",
    "for word, i in tokenizer.word_index.items():\n",
    "\tembedding_vector = embeddings.get(word)\n",
    "\tif embedding_vector is not None:\n",
    "\t\tembedding_matrix[i] = embedding_vector"
   ]
  },
  {
   "cell_type": "markdown",
   "metadata": {
    "colab_type": "text",
    "id": "u7IbWuEX82Ra"
   },
   "source": [
    "### Define model\n"
   ]
  },
  {
   "cell_type": "code",
   "execution_count": 18,
   "metadata": {
    "colab": {},
    "colab_type": "code",
    "id": "4tv168Gmc3PY"
   },
   "outputs": [],
   "source": [
    "model = Sequential()\n",
    "model.add(Embedding(num_words,200,input_length=maxlen))\n",
    "model.add(Bidirectional(LSTM(100,return_sequences=True)))\n",
    "model.add(Dense(32, activation=\"relu\"))\n",
    "model.add(Dropout(0.5))\n",
    "model.add(Dense(1, activation=\"sigmoid\"))"
   ]
  },
  {
   "cell_type": "markdown",
   "metadata": {
    "colab_type": "text",
    "id": "xoI7_8Y1cqTj"
   },
   "source": [
    "### Compile the model"
   ]
  },
  {
   "cell_type": "code",
   "execution_count": 19,
   "metadata": {
    "colab": {
     "base_uri": "https://localhost:8080/",
     "height": 340
    },
    "colab_type": "code",
    "id": "-jJiPHeNoJ3U",
    "outputId": "e934ed7f-8675-4ab3-b68f-4d7ee630d8d9"
   },
   "outputs": [
    {
     "name": "stdout",
     "output_type": "stream",
     "text": [
      "Model: \"sequential_1\"\n",
      "_________________________________________________________________\n",
      "Layer (type)                 Output Shape              Param #   \n",
      "=================================================================\n",
      "embedding_1 (Embedding)      (None, 25, 200)           5679800   \n",
      "_________________________________________________________________\n",
      "bidirectional_1 (Bidirection (None, 25, 200)           240800    \n",
      "_________________________________________________________________\n",
      "dense_2 (Dense)              (None, 25, 32)            6432      \n",
      "_________________________________________________________________\n",
      "dropout_1 (Dropout)          (None, 25, 32)            0         \n",
      "_________________________________________________________________\n",
      "dense_3 (Dense)              (None, 25, 1)             33        \n",
      "=================================================================\n",
      "Total params: 5,927,065\n",
      "Trainable params: 5,927,065\n",
      "Non-trainable params: 0\n",
      "_________________________________________________________________\n",
      "None\n"
     ]
    }
   ],
   "source": [
    "model.compile(optimizer='adam', loss='binary_crossentropy', metrics='accuracy')\n",
    "print(model.summary())"
   ]
  },
  {
   "cell_type": "markdown",
   "metadata": {
    "colab_type": "text",
    "id": "7s4nmqcecw3a"
   },
   "source": [
    "### Fit the model"
   ]
  },
  {
   "cell_type": "code",
   "execution_count": 20,
   "metadata": {
    "colab": {
     "base_uri": "https://localhost:8080/",
     "height": 204
    },
    "colab_type": "code",
    "id": "NN789zNnJ5PL",
    "outputId": "82360f0c-bc0d-4d48-fe78-214e4c8db094"
   },
   "outputs": [
    {
     "name": "stdout",
     "output_type": "stream",
     "text": [
      "Epoch 1/5\n",
      "560/560 [==============================] - 42s 75ms/step - loss: 0.4352 - accuracy: 0.7991\n",
      "Epoch 2/5\n",
      "560/560 [==============================] - 42s 75ms/step - loss: 0.2453 - accuracy: 0.9076\n",
      "Epoch 3/5\n",
      "560/560 [==============================] - 42s 75ms/step - loss: 0.1545 - accuracy: 0.9460\n",
      "Epoch 4/5\n",
      "560/560 [==============================] - 42s 76ms/step - loss: 0.0890 - accuracy: 0.9694\n",
      "Epoch 5/5\n",
      "560/560 [==============================] - 42s 75ms/step - loss: 0.0623 - accuracy: 0.9771\n"
     ]
    },
    {
     "data": {
      "text/plain": [
       "<tensorflow.python.keras.callbacks.History at 0x7f8530326cf8>"
      ]
     },
     "execution_count": 20,
     "metadata": {
      "tags": []
     },
     "output_type": "execute_result"
    }
   ],
   "source": [
    "model.fit(X_train, y_train, epochs=5, batch_size=32)"
   ]
  },
  {
   "cell_type": "code",
   "execution_count": 21,
   "metadata": {
    "colab": {
     "base_uri": "https://localhost:8080/",
     "height": 51
    },
    "colab_type": "code",
    "id": "t4-wcp2X-WlW",
    "outputId": "21718f69-a127-4d8a-f461-76d794f9b390"
   },
   "outputs": [
    {
     "name": "stdout",
     "output_type": "stream",
     "text": [
      "Score: 0.7915\n",
      "Accuracy: 0.8413\n"
     ]
    }
   ],
   "source": [
    "scores, accuracy = model.evaluate(X_test,y_test, verbose=0)\n",
    "print(\"Score: {:.4f}\".format(scores))\n",
    "print(\"Accuracy: {:.4f}\".format(accuracy))"
   ]
  },
  {
   "cell_type": "markdown",
   "metadata": {
    "colab_type": "text",
    "id": "MshL2NofHEAq"
   },
   "source": [
    "The Accuracy is 84%.\n",
    "And Score is 79%\n",
    "\n",
    "Trying for better accuracy with layer mods"
   ]
  },
  {
   "cell_type": "code",
   "execution_count": 43,
   "metadata": {
    "colab": {},
    "colab_type": "code",
    "id": "sxJb6lSnHNjO"
   },
   "outputs": [],
   "source": [
    "model_1 = Sequential()\n",
    "model_1.add(Embedding(num_words,200,input_length=maxlen))\n",
    "model_1.add(Bidirectional(LSTM(100,return_sequences=True)))\n",
    "model_1.add(GRU(64))\n",
    "model_1.add(Dense(64, activation=\"relu\"))\n",
    "#model_1.add(TimeDistributed(Dense(100, activation='relu')))\n",
    "model_1.add(Dropout(0.5))\n",
    "model_1.add(Dense(1, activation=\"sigmoid\"))"
   ]
  },
  {
   "cell_type": "code",
   "execution_count": 44,
   "metadata": {
    "colab": {
     "base_uri": "https://localhost:8080/",
     "height": 374
    },
    "colab_type": "code",
    "id": "zHEGbtUgIliH",
    "outputId": "e5f0fd17-26c0-476a-9034-cb4efaddedd4"
   },
   "outputs": [
    {
     "name": "stdout",
     "output_type": "stream",
     "text": [
      "Model: \"sequential_7\"\n",
      "_________________________________________________________________\n",
      "Layer (type)                 Output Shape              Param #   \n",
      "=================================================================\n",
      "embedding_7 (Embedding)      (None, 25, 200)           5679800   \n",
      "_________________________________________________________________\n",
      "bidirectional_7 (Bidirection (None, 25, 200)           240800    \n",
      "_________________________________________________________________\n",
      "gru_1 (GRU)                  (None, 64)                51072     \n",
      "_________________________________________________________________\n",
      "dense_14 (Dense)             (None, 64)                4160      \n",
      "_________________________________________________________________\n",
      "dropout_4 (Dropout)          (None, 64)                0         \n",
      "_________________________________________________________________\n",
      "dense_15 (Dense)             (None, 1)                 65        \n",
      "=================================================================\n",
      "Total params: 5,975,897\n",
      "Trainable params: 5,975,897\n",
      "Non-trainable params: 0\n",
      "_________________________________________________________________\n",
      "None\n"
     ]
    }
   ],
   "source": [
    "model_1.compile(optimizer='adam', loss='binary_crossentropy', metrics='accuracy')\n",
    "print(model_1.summary())"
   ]
  },
  {
   "cell_type": "code",
   "execution_count": 45,
   "metadata": {
    "colab": {
     "base_uri": "https://localhost:8080/",
     "height": 204
    },
    "colab_type": "code",
    "id": "wKehuP5zI6Bz",
    "outputId": "13e181b5-1178-4856-a177-36b875398beb"
   },
   "outputs": [
    {
     "name": "stdout",
     "output_type": "stream",
     "text": [
      "Epoch 1/5\n",
      "560/560 [==============================] - 47s 83ms/step - loss: 0.4205 - accuracy: 0.8030\n",
      "Epoch 2/5\n",
      "560/560 [==============================] - 46s 83ms/step - loss: 0.1976 - accuracy: 0.9255\n",
      "Epoch 3/5\n",
      "560/560 [==============================] - 46s 83ms/step - loss: 0.0962 - accuracy: 0.9666\n",
      "Epoch 4/5\n",
      "560/560 [==============================] - 46s 83ms/step - loss: 0.0461 - accuracy: 0.9842\n",
      "Epoch 5/5\n",
      "560/560 [==============================] - 46s 83ms/step - loss: 0.0287 - accuracy: 0.9903\n"
     ]
    },
    {
     "data": {
      "text/plain": [
       "<tensorflow.python.keras.callbacks.History at 0x7f84d3fd26a0>"
      ]
     },
     "execution_count": 45,
     "metadata": {
      "tags": []
     },
     "output_type": "execute_result"
    }
   ],
   "source": [
    "model_1.fit(X_train, y_train, epochs=5, batch_size=32)"
   ]
  },
  {
   "cell_type": "code",
   "execution_count": 46,
   "metadata": {
    "colab": {
     "base_uri": "https://localhost:8080/",
     "height": 51
    },
    "colab_type": "code",
    "id": "OjtqH4AKJFtV",
    "outputId": "1c24f289-88ac-47d4-8e8a-125a8f46f8eb"
   },
   "outputs": [
    {
     "name": "stdout",
     "output_type": "stream",
     "text": [
      "Score: 0.9271\n",
      "Accuracy: 0.8302\n"
     ]
    }
   ],
   "source": [
    "scores_1, accuracy_1 = model_1.evaluate(X_test,y_test, verbose=0)\n",
    "print(\"Score: {:.4f}\".format(scores_1))\n",
    "print(\"Accuracy: {:.4f}\".format(accuracy_1))"
   ]
  },
  {
   "cell_type": "code",
   "execution_count": 41,
   "metadata": {
    "colab": {
     "base_uri": "https://localhost:8080/",
     "height": 129
    },
    "colab_type": "code",
    "id": "ky8G4x36KVRk",
    "outputId": "53d226f8-a7f5-46c1-ef15-485245002ca5"
   },
   "outputs": [
    {
     "ename": "SyntaxError",
     "evalue": "ignored",
     "output_type": "error",
     "traceback": [
      "\u001b[0;36m  File \u001b[0;32m\"<ipython-input-41-538fe53cdfba>\"\u001b[0;36m, line \u001b[0;32m6\u001b[0m\n\u001b[0;31m    model_2.add(Dense(64, activation=\"relu\"))\u001b[0m\n\u001b[0m          ^\u001b[0m\n\u001b[0;31mSyntaxError\u001b[0m\u001b[0;31m:\u001b[0m invalid syntax\n"
     ]
    }
   ],
   "source": []
  },
  {
   "cell_type": "code",
   "execution_count": null,
   "metadata": {
    "colab": {},
    "colab_type": "code",
    "id": "gTE79NbNO8WS"
   },
   "outputs": [],
   "source": []
  },
  {
   "cell_type": "code",
   "execution_count": null,
   "metadata": {
    "colab": {},
    "colab_type": "code",
    "id": "gTE79NbNO8WS"
   },
   "outputs": [],
   "source": []
  }
 ],
 "metadata": {
  "accelerator": "GPU",
  "colab": {
   "collapsed_sections": [],
   "name": "Questions - Project 2 - Sequential Models in NLP - Sarcasm Detection.ipynb",
   "provenance": [],
   "toc_visible": true
  },
  "kernelspec": {
   "display_name": "Python 3",
   "language": "python",
   "name": "python3"
  },
  "language_info": {
   "codemirror_mode": {
    "name": "ipython",
    "version": 3
   },
   "file_extension": ".py",
   "mimetype": "text/x-python",
   "name": "python",
   "nbconvert_exporter": "python",
   "pygments_lexer": "ipython3",
   "version": "3.7.7"
  }
 },
 "nbformat": 4,
 "nbformat_minor": 1
}
